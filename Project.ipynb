{
 "cells": [
  {
   "cell_type": "code",
   "execution_count": 1,
   "id": "1391e311",
   "metadata": {},
   "outputs": [],
   "source": [
    "import numpy as np\n",
    "import pandas as pd\n",
    "import matplotlib.pyplot as plt\n",
    "import seaborn as sns\n",
    "import mysql.connector"
   ]
  },
  {
   "cell_type": "code",
   "execution_count": 2,
   "id": "72c3ce65",
   "metadata": {},
   "outputs": [],
   "source": [
    "mydb = mysql.connector.connect(host = 'localhost',\n",
    "                               user = 'root',\n",
    "                               passwd = 'root',\n",
    "                               database = 'northwind')\n",
    "\n",
    "# Membuat function untuk meng-execute query dari SQL\n",
    "mycursor = mydb.cursor()\n",
    "\n",
    "def sql_df(query):\n",
    "    mycursor.execute(query)\n",
    "    result = mycursor.fetchall()\n",
    "    df = pd.DataFrame(result, columns = mycursor.column_names)\n",
    "    return df\n",
    "\n",
    "def create_view(query):\n",
    "    mycursor.execute(query)\n",
    "    result = mycursor.fetchall()\n",
    "    return result\n",
    "\n",
    "def create_variable(query):\n",
    "    mycursor.execute(query)\n",
    "    result = mycursor.fetchall()\n",
    "    return result"
   ]
  },
  {
   "cell_type": "markdown",
   "id": "ba023f0e",
   "metadata": {},
   "source": [
    "# GENERAL QUESTION"
   ]
  },
  {
   "cell_type": "markdown",
   "id": "d312b593",
   "metadata": {},
   "source": [
    "1. Ada berapa banyak tabel yang disediakan oleh database yang tersedia? Jika terdapat ERD, silahkan ditampilkan."
   ]
  },
  {
   "cell_type": "markdown",
   "id": "associate-answer",
   "metadata": {},
   "source": [
    "<img src='Northwind ERD.png' />"
   ]
  },
  {
   "cell_type": "markdown",
   "id": "85efbb24",
   "metadata": {},
   "source": [
    "# SQL"
   ]
  },
  {
   "cell_type": "markdown",
   "id": "b719ca35",
   "metadata": {},
   "source": [
    "1. Apakah tabel customers, orders, ordersdetail, dan products dapat digabungkan\n",
    "menjadi 1 tabel? Jika memungkinkan, tampilkan tabel yang memuat informasi\n",
    "transaksi yang melibatkan keempat tabel tersebut."
   ]
  },
  {
   "cell_type": "code",
   "execution_count": 4,
   "id": "44e395ab",
   "metadata": {},
   "outputs": [
    {
     "data": {
      "text/html": [
       "<div>\n",
       "<style scoped>\n",
       "    .dataframe tbody tr th:only-of-type {\n",
       "        vertical-align: middle;\n",
       "    }\n",
       "\n",
       "    .dataframe tbody tr th {\n",
       "        vertical-align: top;\n",
       "    }\n",
       "\n",
       "    .dataframe thead th {\n",
       "        text-align: right;\n",
       "    }\n",
       "</style>\n",
       "<table border=\"1\" class=\"dataframe\">\n",
       "  <thead>\n",
       "    <tr style=\"text-align: right;\">\n",
       "      <th></th>\n",
       "      <th>OrderID</th>\n",
       "      <th>CustomerID</th>\n",
       "      <th>EmployeeID</th>\n",
       "      <th>OrderDate</th>\n",
       "      <th>RequiredDate</th>\n",
       "      <th>ShippedDate</th>\n",
       "      <th>ShipVia</th>\n",
       "      <th>Freight</th>\n",
       "      <th>ShipName</th>\n",
       "      <th>ShipAddress</th>\n",
       "      <th>...</th>\n",
       "      <th>ProductID</th>\n",
       "      <th>ProductName</th>\n",
       "      <th>SupplierID</th>\n",
       "      <th>CategoryID</th>\n",
       "      <th>QuantityPerUnit</th>\n",
       "      <th>UnitPrice</th>\n",
       "      <th>UnitsInStock</th>\n",
       "      <th>UnitsOnOrder</th>\n",
       "      <th>ReorderLevel</th>\n",
       "      <th>Discontinued</th>\n",
       "    </tr>\n",
       "  </thead>\n",
       "  <tbody>\n",
       "    <tr>\n",
       "      <th>0</th>\n",
       "      <td>10643</td>\n",
       "      <td>ALFKI</td>\n",
       "      <td>6</td>\n",
       "      <td>1997-08-25</td>\n",
       "      <td>1997-09-22</td>\n",
       "      <td>1997-09-02</td>\n",
       "      <td>1</td>\n",
       "      <td>29.4600</td>\n",
       "      <td>Alfreds Futterkiste</td>\n",
       "      <td>Obere Str. 57</td>\n",
       "      <td>...</td>\n",
       "      <td>28</td>\n",
       "      <td>Rssle Sauerkraut</td>\n",
       "      <td>12</td>\n",
       "      <td>7</td>\n",
       "      <td>25 - 825 g cans</td>\n",
       "      <td>45.6000</td>\n",
       "      <td>26</td>\n",
       "      <td>0</td>\n",
       "      <td>0</td>\n",
       "      <td>1</td>\n",
       "    </tr>\n",
       "    <tr>\n",
       "      <th>1</th>\n",
       "      <td>10643</td>\n",
       "      <td>ALFKI</td>\n",
       "      <td>6</td>\n",
       "      <td>1997-08-25</td>\n",
       "      <td>1997-09-22</td>\n",
       "      <td>1997-09-02</td>\n",
       "      <td>1</td>\n",
       "      <td>29.4600</td>\n",
       "      <td>Alfreds Futterkiste</td>\n",
       "      <td>Obere Str. 57</td>\n",
       "      <td>...</td>\n",
       "      <td>39</td>\n",
       "      <td>Chartreuse verte</td>\n",
       "      <td>18</td>\n",
       "      <td>1</td>\n",
       "      <td>750 cc per bottle</td>\n",
       "      <td>18.0000</td>\n",
       "      <td>69</td>\n",
       "      <td>0</td>\n",
       "      <td>5</td>\n",
       "      <td>0</td>\n",
       "    </tr>\n",
       "    <tr>\n",
       "      <th>2</th>\n",
       "      <td>10643</td>\n",
       "      <td>ALFKI</td>\n",
       "      <td>6</td>\n",
       "      <td>1997-08-25</td>\n",
       "      <td>1997-09-22</td>\n",
       "      <td>1997-09-02</td>\n",
       "      <td>1</td>\n",
       "      <td>29.4600</td>\n",
       "      <td>Alfreds Futterkiste</td>\n",
       "      <td>Obere Str. 57</td>\n",
       "      <td>...</td>\n",
       "      <td>46</td>\n",
       "      <td>Spegesild</td>\n",
       "      <td>21</td>\n",
       "      <td>8</td>\n",
       "      <td>4 - 450 g glasses</td>\n",
       "      <td>12.0000</td>\n",
       "      <td>95</td>\n",
       "      <td>0</td>\n",
       "      <td>0</td>\n",
       "      <td>0</td>\n",
       "    </tr>\n",
       "    <tr>\n",
       "      <th>3</th>\n",
       "      <td>10692</td>\n",
       "      <td>ALFKI</td>\n",
       "      <td>4</td>\n",
       "      <td>1997-10-03</td>\n",
       "      <td>1997-10-31</td>\n",
       "      <td>1997-10-13</td>\n",
       "      <td>2</td>\n",
       "      <td>61.0200</td>\n",
       "      <td>Alfred-s Futterkiste</td>\n",
       "      <td>Obere Str. 57</td>\n",
       "      <td>...</td>\n",
       "      <td>63</td>\n",
       "      <td>Vegie-spread</td>\n",
       "      <td>7</td>\n",
       "      <td>2</td>\n",
       "      <td>15 - 625 g jars</td>\n",
       "      <td>43.9000</td>\n",
       "      <td>24</td>\n",
       "      <td>0</td>\n",
       "      <td>5</td>\n",
       "      <td>0</td>\n",
       "    </tr>\n",
       "    <tr>\n",
       "      <th>4</th>\n",
       "      <td>10702</td>\n",
       "      <td>ALFKI</td>\n",
       "      <td>4</td>\n",
       "      <td>1997-10-13</td>\n",
       "      <td>1997-11-24</td>\n",
       "      <td>1997-10-21</td>\n",
       "      <td>1</td>\n",
       "      <td>23.9400</td>\n",
       "      <td>Alfred-s Futterkiste</td>\n",
       "      <td>Obere Str. 57</td>\n",
       "      <td>...</td>\n",
       "      <td>3</td>\n",
       "      <td>Aniseed Syrup</td>\n",
       "      <td>1</td>\n",
       "      <td>2</td>\n",
       "      <td>12 - 550 ml bottles</td>\n",
       "      <td>10.0000</td>\n",
       "      <td>13</td>\n",
       "      <td>70</td>\n",
       "      <td>25</td>\n",
       "      <td>0</td>\n",
       "    </tr>\n",
       "    <tr>\n",
       "      <th>...</th>\n",
       "      <td>...</td>\n",
       "      <td>...</td>\n",
       "      <td>...</td>\n",
       "      <td>...</td>\n",
       "      <td>...</td>\n",
       "      <td>...</td>\n",
       "      <td>...</td>\n",
       "      <td>...</td>\n",
       "      <td>...</td>\n",
       "      <td>...</td>\n",
       "      <td>...</td>\n",
       "      <td>...</td>\n",
       "      <td>...</td>\n",
       "      <td>...</td>\n",
       "      <td>...</td>\n",
       "      <td>...</td>\n",
       "      <td>...</td>\n",
       "      <td>...</td>\n",
       "      <td>...</td>\n",
       "      <td>...</td>\n",
       "      <td>...</td>\n",
       "    </tr>\n",
       "    <tr>\n",
       "      <th>2150</th>\n",
       "      <td>10998</td>\n",
       "      <td>WOLZA</td>\n",
       "      <td>8</td>\n",
       "      <td>1998-04-03</td>\n",
       "      <td>1998-04-17</td>\n",
       "      <td>1998-04-17</td>\n",
       "      <td>2</td>\n",
       "      <td>20.3100</td>\n",
       "      <td>Wolski Zajazd</td>\n",
       "      <td>ul. Filtrowa 68</td>\n",
       "      <td>...</td>\n",
       "      <td>24</td>\n",
       "      <td>Guaran Fantstica</td>\n",
       "      <td>10</td>\n",
       "      <td>1</td>\n",
       "      <td>12 - 355 ml cans</td>\n",
       "      <td>4.5000</td>\n",
       "      <td>20</td>\n",
       "      <td>0</td>\n",
       "      <td>0</td>\n",
       "      <td>1</td>\n",
       "    </tr>\n",
       "    <tr>\n",
       "      <th>2151</th>\n",
       "      <td>10998</td>\n",
       "      <td>WOLZA</td>\n",
       "      <td>8</td>\n",
       "      <td>1998-04-03</td>\n",
       "      <td>1998-04-17</td>\n",
       "      <td>1998-04-17</td>\n",
       "      <td>2</td>\n",
       "      <td>20.3100</td>\n",
       "      <td>Wolski Zajazd</td>\n",
       "      <td>ul. Filtrowa 68</td>\n",
       "      <td>...</td>\n",
       "      <td>61</td>\n",
       "      <td>Sirop d'rable</td>\n",
       "      <td>29</td>\n",
       "      <td>2</td>\n",
       "      <td>24 - 500 ml bottles</td>\n",
       "      <td>28.5000</td>\n",
       "      <td>113</td>\n",
       "      <td>0</td>\n",
       "      <td>25</td>\n",
       "      <td>0</td>\n",
       "    </tr>\n",
       "    <tr>\n",
       "      <th>2152</th>\n",
       "      <td>10998</td>\n",
       "      <td>WOLZA</td>\n",
       "      <td>8</td>\n",
       "      <td>1998-04-03</td>\n",
       "      <td>1998-04-17</td>\n",
       "      <td>1998-04-17</td>\n",
       "      <td>2</td>\n",
       "      <td>20.3100</td>\n",
       "      <td>Wolski Zajazd</td>\n",
       "      <td>ul. Filtrowa 68</td>\n",
       "      <td>...</td>\n",
       "      <td>74</td>\n",
       "      <td>Longlife Tofu</td>\n",
       "      <td>4</td>\n",
       "      <td>7</td>\n",
       "      <td>5 kg pkg.</td>\n",
       "      <td>10.0000</td>\n",
       "      <td>4</td>\n",
       "      <td>20</td>\n",
       "      <td>5</td>\n",
       "      <td>0</td>\n",
       "    </tr>\n",
       "    <tr>\n",
       "      <th>2153</th>\n",
       "      <td>10998</td>\n",
       "      <td>WOLZA</td>\n",
       "      <td>8</td>\n",
       "      <td>1998-04-03</td>\n",
       "      <td>1998-04-17</td>\n",
       "      <td>1998-04-17</td>\n",
       "      <td>2</td>\n",
       "      <td>20.3100</td>\n",
       "      <td>Wolski Zajazd</td>\n",
       "      <td>ul. Filtrowa 68</td>\n",
       "      <td>...</td>\n",
       "      <td>75</td>\n",
       "      <td>Rhnbru Klosterbier</td>\n",
       "      <td>12</td>\n",
       "      <td>1</td>\n",
       "      <td>24 - 0.5 l bottles</td>\n",
       "      <td>7.7500</td>\n",
       "      <td>125</td>\n",
       "      <td>0</td>\n",
       "      <td>25</td>\n",
       "      <td>0</td>\n",
       "    </tr>\n",
       "    <tr>\n",
       "      <th>2154</th>\n",
       "      <td>11044</td>\n",
       "      <td>WOLZA</td>\n",
       "      <td>4</td>\n",
       "      <td>1998-04-23</td>\n",
       "      <td>1998-05-21</td>\n",
       "      <td>1998-05-01</td>\n",
       "      <td>1</td>\n",
       "      <td>8.7200</td>\n",
       "      <td>Wolski Zajazd</td>\n",
       "      <td>ul. Filtrowa 68</td>\n",
       "      <td>...</td>\n",
       "      <td>62</td>\n",
       "      <td>Tarte au sucre</td>\n",
       "      <td>29</td>\n",
       "      <td>3</td>\n",
       "      <td>48 pies</td>\n",
       "      <td>49.3000</td>\n",
       "      <td>17</td>\n",
       "      <td>0</td>\n",
       "      <td>0</td>\n",
       "      <td>0</td>\n",
       "    </tr>\n",
       "  </tbody>\n",
       "</table>\n",
       "<p>2155 rows × 40 columns</p>\n",
       "</div>"
      ],
      "text/plain": [
       "      OrderID CustomerID  EmployeeID  OrderDate RequiredDate ShippedDate  \\\n",
       "0       10643      ALFKI           6 1997-08-25   1997-09-22  1997-09-02   \n",
       "1       10643      ALFKI           6 1997-08-25   1997-09-22  1997-09-02   \n",
       "2       10643      ALFKI           6 1997-08-25   1997-09-22  1997-09-02   \n",
       "3       10692      ALFKI           4 1997-10-03   1997-10-31  1997-10-13   \n",
       "4       10702      ALFKI           4 1997-10-13   1997-11-24  1997-10-21   \n",
       "...       ...        ...         ...        ...          ...         ...   \n",
       "2150    10998      WOLZA           8 1998-04-03   1998-04-17  1998-04-17   \n",
       "2151    10998      WOLZA           8 1998-04-03   1998-04-17  1998-04-17   \n",
       "2152    10998      WOLZA           8 1998-04-03   1998-04-17  1998-04-17   \n",
       "2153    10998      WOLZA           8 1998-04-03   1998-04-17  1998-04-17   \n",
       "2154    11044      WOLZA           4 1998-04-23   1998-05-21  1998-05-01   \n",
       "\n",
       "      ShipVia  Freight              ShipName      ShipAddress  ... ProductID  \\\n",
       "0           1  29.4600   Alfreds Futterkiste    Obere Str. 57  ...        28   \n",
       "1           1  29.4600   Alfreds Futterkiste    Obere Str. 57  ...        39   \n",
       "2           1  29.4600   Alfreds Futterkiste    Obere Str. 57  ...        46   \n",
       "3           2  61.0200  Alfred-s Futterkiste    Obere Str. 57  ...        63   \n",
       "4           1  23.9400  Alfred-s Futterkiste    Obere Str. 57  ...         3   \n",
       "...       ...      ...                   ...              ...  ...       ...   \n",
       "2150        2  20.3100         Wolski Zajazd  ul. Filtrowa 68  ...        24   \n",
       "2151        2  20.3100         Wolski Zajazd  ul. Filtrowa 68  ...        61   \n",
       "2152        2  20.3100         Wolski Zajazd  ul. Filtrowa 68  ...        74   \n",
       "2153        2  20.3100         Wolski Zajazd  ul. Filtrowa 68  ...        75   \n",
       "2154        1   8.7200         Wolski Zajazd  ul. Filtrowa 68  ...        62   \n",
       "\n",
       "             ProductName SupplierID CategoryID      QuantityPerUnit UnitPrice  \\\n",
       "0       Rssle Sauerkraut         12          7      25 - 825 g cans   45.6000   \n",
       "1       Chartreuse verte         18          1    750 cc per bottle   18.0000   \n",
       "2              Spegesild         21          8    4 - 450 g glasses   12.0000   \n",
       "3           Vegie-spread          7          2      15 - 625 g jars   43.9000   \n",
       "4          Aniseed Syrup          1          2  12 - 550 ml bottles   10.0000   \n",
       "...                  ...        ...        ...                  ...       ...   \n",
       "2150    Guaran Fantstica         10          1     12 - 355 ml cans    4.5000   \n",
       "2151       Sirop d'rable         29          2  24 - 500 ml bottles   28.5000   \n",
       "2152       Longlife Tofu          4          7            5 kg pkg.   10.0000   \n",
       "2153  Rhnbru Klosterbier         12          1   24 - 0.5 l bottles    7.7500   \n",
       "2154      Tarte au sucre         29          3              48 pies   49.3000   \n",
       "\n",
       "     UnitsInStock UnitsOnOrder ReorderLevel Discontinued  \n",
       "0              26            0            0            1  \n",
       "1              69            0            5            0  \n",
       "2              95            0            0            0  \n",
       "3              24            0            5            0  \n",
       "4              13           70           25            0  \n",
       "...           ...          ...          ...          ...  \n",
       "2150           20            0            0            1  \n",
       "2151          113            0           25            0  \n",
       "2152            4           20            5            0  \n",
       "2153          125            0           25            0  \n",
       "2154           17            0            0            0  \n",
       "\n",
       "[2155 rows x 40 columns]"
      ]
     },
     "execution_count": 4,
     "metadata": {},
     "output_type": "execute_result"
    }
   ],
   "source": [
    "sql_df('''SELECT * FROM ORDERS O \n",
    "       JOIN CUSTOMERS C ON C.CustomerID = O.CustomerID\n",
    "       JOIN ORDERDETAILS OD ON OD.OrderID = O.OrderId\n",
    "       JOIN PRODUCTS P ON P.ProductID = OD.ProductID''')"
   ]
  },
  {
   "cell_type": "markdown",
   "id": "e2cc119d",
   "metadata": {},
   "source": [
    "2. 5 Nama produk yang paling banyak diorder"
   ]
  },
  {
   "cell_type": "code",
   "execution_count": 5,
   "id": "e0ea90ca",
   "metadata": {},
   "outputs": [
    {
     "data": {
      "text/html": [
       "<div>\n",
       "<style scoped>\n",
       "    .dataframe tbody tr th:only-of-type {\n",
       "        vertical-align: middle;\n",
       "    }\n",
       "\n",
       "    .dataframe tbody tr th {\n",
       "        vertical-align: top;\n",
       "    }\n",
       "\n",
       "    .dataframe thead th {\n",
       "        text-align: right;\n",
       "    }\n",
       "</style>\n",
       "<table border=\"1\" class=\"dataframe\">\n",
       "  <thead>\n",
       "    <tr style=\"text-align: right;\">\n",
       "      <th></th>\n",
       "      <th>ProductName</th>\n",
       "      <th>Quantity</th>\n",
       "    </tr>\n",
       "  </thead>\n",
       "  <tbody>\n",
       "    <tr>\n",
       "      <th>0</th>\n",
       "      <td>Chocolade</td>\n",
       "      <td>70</td>\n",
       "    </tr>\n",
       "    <tr>\n",
       "      <th>1</th>\n",
       "      <td>Northwoods Cranberry Sauce</td>\n",
       "      <td>70</td>\n",
       "    </tr>\n",
       "    <tr>\n",
       "      <th>2</th>\n",
       "      <td>Chef Anton's Gumbo Mix</td>\n",
       "      <td>65</td>\n",
       "    </tr>\n",
       "    <tr>\n",
       "      <th>3</th>\n",
       "      <td>Nord-Ost Matjeshering</td>\n",
       "      <td>60</td>\n",
       "    </tr>\n",
       "    <tr>\n",
       "      <th>4</th>\n",
       "      <td>Boston Crab Meat</td>\n",
       "      <td>50</td>\n",
       "    </tr>\n",
       "  </tbody>\n",
       "</table>\n",
       "</div>"
      ],
      "text/plain": [
       "                  ProductName  Quantity\n",
       "0                   Chocolade        70\n",
       "1  Northwoods Cranberry Sauce        70\n",
       "2      Chef Anton's Gumbo Mix        65\n",
       "3       Nord-Ost Matjeshering        60\n",
       "4            Boston Crab Meat        50"
      ]
     },
     "execution_count": 5,
     "metadata": {},
     "output_type": "execute_result"
    }
   ],
   "source": [
    "sql_df('''SELECT P.ProductName, OD.Quantity FROM ORDERS O \n",
    "       JOIN ORDERDETAILS OD ON OD.OrderID = O.OrderId\n",
    "       JOIN PRODUCTS P ON P.ProductID = OD.ProductID\n",
    "       GROUP BY P.ProductName\n",
    "       ORDER BY Quantity Desc\n",
    "       Limit 5''')"
   ]
  },
  {
   "cell_type": "markdown",
   "id": "4d7d8cd7",
   "metadata": {},
   "source": [
    "3. 5 Region customer yang paling banyak melakukan order dan yang paling sedikit melakukan order"
   ]
  },
  {
   "cell_type": "code",
   "execution_count": 6,
   "id": "e49fbae8",
   "metadata": {},
   "outputs": [
    {
     "data": {
      "text/html": [
       "<div>\n",
       "<style scoped>\n",
       "    .dataframe tbody tr th:only-of-type {\n",
       "        vertical-align: middle;\n",
       "    }\n",
       "\n",
       "    .dataframe tbody tr th {\n",
       "        vertical-align: top;\n",
       "    }\n",
       "\n",
       "    .dataframe thead th {\n",
       "        text-align: right;\n",
       "    }\n",
       "</style>\n",
       "<table border=\"1\" class=\"dataframe\">\n",
       "  <thead>\n",
       "    <tr style=\"text-align: right;\">\n",
       "      <th></th>\n",
       "      <th>Region</th>\n",
       "      <th>Quantity</th>\n",
       "    </tr>\n",
       "  </thead>\n",
       "  <tbody>\n",
       "    <tr>\n",
       "      <th>0</th>\n",
       "      <td>Nueva Esparta</td>\n",
       "      <td>50</td>\n",
       "    </tr>\n",
       "    <tr>\n",
       "      <th>1</th>\n",
       "      <td>Qubec</td>\n",
       "      <td>40</td>\n",
       "    </tr>\n",
       "    <tr>\n",
       "      <th>2</th>\n",
       "      <td>Co. Cork</td>\n",
       "      <td>40</td>\n",
       "    </tr>\n",
       "    <tr>\n",
       "      <th>3</th>\n",
       "      <td>AK</td>\n",
       "      <td>25</td>\n",
       "    </tr>\n",
       "    <tr>\n",
       "      <th>4</th>\n",
       "      <td>Tchira</td>\n",
       "      <td>25</td>\n",
       "    </tr>\n",
       "  </tbody>\n",
       "</table>\n",
       "</div>"
      ],
      "text/plain": [
       "          Region  Quantity\n",
       "0  Nueva Esparta        50\n",
       "1          Qubec        40\n",
       "2       Co. Cork        40\n",
       "3             AK        25\n",
       "4         Tchira        25"
      ]
     },
     "execution_count": 6,
     "metadata": {},
     "output_type": "execute_result"
    }
   ],
   "source": [
    "sql_df('''SELECT C.Region, Quantity FROM ORDERS O \n",
    "       JOIN CUSTOMERS C ON C.CustomerID = O.CustomerID\n",
    "       JOIN ORDERDETAILS OD ON OD.OrderID = O.OrderId\n",
    "       GROUP BY C.Region\n",
    "       ORDER BY Quantity DESC\n",
    "       LIMIT 5''')"
   ]
  },
  {
   "cell_type": "code",
   "execution_count": 7,
   "id": "advised-lecture",
   "metadata": {},
   "outputs": [
    {
     "data": {
      "text/html": [
       "<div>\n",
       "<style scoped>\n",
       "    .dataframe tbody tr th:only-of-type {\n",
       "        vertical-align: middle;\n",
       "    }\n",
       "\n",
       "    .dataframe tbody tr th {\n",
       "        vertical-align: top;\n",
       "    }\n",
       "\n",
       "    .dataframe thead th {\n",
       "        text-align: right;\n",
       "    }\n",
       "</style>\n",
       "<table border=\"1\" class=\"dataframe\">\n",
       "  <thead>\n",
       "    <tr style=\"text-align: right;\">\n",
       "      <th></th>\n",
       "      <th>Region</th>\n",
       "      <th>Quantity</th>\n",
       "    </tr>\n",
       "  </thead>\n",
       "  <tbody>\n",
       "    <tr>\n",
       "      <th>0</th>\n",
       "      <td>OR</td>\n",
       "      <td>3</td>\n",
       "    </tr>\n",
       "    <tr>\n",
       "      <th>1</th>\n",
       "      <td>RJ</td>\n",
       "      <td>10</td>\n",
       "    </tr>\n",
       "    <tr>\n",
       "      <th>2</th>\n",
       "      <td>CA</td>\n",
       "      <td>10</td>\n",
       "    </tr>\n",
       "    <tr>\n",
       "      <th>3</th>\n",
       "      <td>MT</td>\n",
       "      <td>10</td>\n",
       "    </tr>\n",
       "    <tr>\n",
       "      <th>4</th>\n",
       "      <td>DF</td>\n",
       "      <td>10</td>\n",
       "    </tr>\n",
       "  </tbody>\n",
       "</table>\n",
       "</div>"
      ],
      "text/plain": [
       "  Region  Quantity\n",
       "0     OR         3\n",
       "1     RJ        10\n",
       "2     CA        10\n",
       "3     MT        10\n",
       "4     DF        10"
      ]
     },
     "execution_count": 7,
     "metadata": {},
     "output_type": "execute_result"
    }
   ],
   "source": [
    "sql_df('''SELECT C.Region, Quantity FROM ORDERS O \n",
    "       JOIN CUSTOMERS C ON C.CustomerID = O.CustomerID\n",
    "       JOIN ORDERDETAILS OD ON OD.OrderID = O.OrderId\n",
    "       GROUP BY C.Region\n",
    "       ORDER BY Quantity ASC\n",
    "       LIMIT 5''')"
   ]
  },
  {
   "cell_type": "markdown",
   "id": "40cd8ca8",
   "metadata": {},
   "source": [
    "4. Nama perusahaan shipping yang paling banyak mengirimkan barang ke customer"
   ]
  },
  {
   "cell_type": "code",
   "execution_count": 8,
   "id": "coordinated-botswana",
   "metadata": {},
   "outputs": [
    {
     "data": {
      "text/html": [
       "<div>\n",
       "<style scoped>\n",
       "    .dataframe tbody tr th:only-of-type {\n",
       "        vertical-align: middle;\n",
       "    }\n",
       "\n",
       "    .dataframe tbody tr th {\n",
       "        vertical-align: top;\n",
       "    }\n",
       "\n",
       "    .dataframe thead th {\n",
       "        text-align: right;\n",
       "    }\n",
       "</style>\n",
       "<table border=\"1\" class=\"dataframe\">\n",
       "  <thead>\n",
       "    <tr style=\"text-align: right;\">\n",
       "      <th></th>\n",
       "      <th>CompanyName</th>\n",
       "      <th>Sum_order</th>\n",
       "    </tr>\n",
       "  </thead>\n",
       "  <tbody>\n",
       "    <tr>\n",
       "      <th>0</th>\n",
       "      <td>United Package</td>\n",
       "      <td>3480038</td>\n",
       "    </tr>\n",
       "    <tr>\n",
       "      <th>1</th>\n",
       "      <td>Federal Shipping</td>\n",
       "      <td>2713606</td>\n",
       "    </tr>\n",
       "    <tr>\n",
       "      <th>2</th>\n",
       "      <td>Speedy Express</td>\n",
       "      <td>2656231</td>\n",
       "    </tr>\n",
       "  </tbody>\n",
       "</table>\n",
       "</div>"
      ],
      "text/plain": [
       "        CompanyName Sum_order\n",
       "0    United Package   3480038\n",
       "1  Federal Shipping   2713606\n",
       "2    Speedy Express   2656231"
      ]
     },
     "execution_count": 8,
     "metadata": {},
     "output_type": "execute_result"
    }
   ],
   "source": [
    "sql_df('''SELECT S.CompanyName, SUM(OrderId) as Sum_order FROM SHIPPERS S \n",
    "        JOIN ORDERS O ON S.ShipperID = O.ShipVia\n",
    "        GROUP BY S.CompanyName\n",
    "        ORDER BY Sum_order DESC''')"
   ]
  },
  {
   "cell_type": "markdown",
   "id": "8ea52209",
   "metadata": {},
   "source": [
    "# DATA MANIPULATION"
   ]
  },
  {
   "cell_type": "markdown",
   "id": "homeless-movement",
   "metadata": {},
   "source": [
    "1. Gabungkan table Orders dan table OrderDetails"
   ]
  },
  {
   "cell_type": "code",
   "execution_count": 9,
   "id": "70ca6d92",
   "metadata": {},
   "outputs": [],
   "source": [
    "df_o = sql_df('SELECT * FROM ORDERS')\n",
    "df_do = sql_df('SELECT * FROM ORDERDETAILS')"
   ]
  },
  {
   "cell_type": "code",
   "execution_count": 10,
   "id": "mobile-ecuador",
   "metadata": {},
   "outputs": [
    {
     "name": "stdout",
     "output_type": "stream",
     "text": [
      "<class 'pandas.core.frame.DataFrame'>\n",
      "RangeIndex: 830 entries, 0 to 829\n",
      "Data columns (total 14 columns):\n",
      " #   Column          Non-Null Count  Dtype         \n",
      "---  ------          --------------  -----         \n",
      " 0   OrderID         830 non-null    int64         \n",
      " 1   CustomerID      830 non-null    object        \n",
      " 2   EmployeeID      830 non-null    int64         \n",
      " 3   OrderDate       830 non-null    datetime64[ns]\n",
      " 4   RequiredDate    830 non-null    datetime64[ns]\n",
      " 5   ShippedDate     809 non-null    datetime64[ns]\n",
      " 6   ShipVia         830 non-null    int64         \n",
      " 7   Freight         830 non-null    object        \n",
      " 8   ShipName        830 non-null    object        \n",
      " 9   ShipAddress     830 non-null    object        \n",
      " 10  ShipCity        830 non-null    object        \n",
      " 11  ShipRegion      323 non-null    object        \n",
      " 12  ShipPostalCode  811 non-null    object        \n",
      " 13  ShipCountry     830 non-null    object        \n",
      "dtypes: datetime64[ns](3), int64(3), object(8)\n",
      "memory usage: 90.9+ KB\n"
     ]
    }
   ],
   "source": [
    "df_o.info()"
   ]
  },
  {
   "cell_type": "code",
   "execution_count": 11,
   "id": "stuffed-space",
   "metadata": {},
   "outputs": [
    {
     "name": "stdout",
     "output_type": "stream",
     "text": [
      "<class 'pandas.core.frame.DataFrame'>\n",
      "RangeIndex: 2155 entries, 0 to 2154\n",
      "Data columns (total 5 columns):\n",
      " #   Column     Non-Null Count  Dtype  \n",
      "---  ------     --------------  -----  \n",
      " 0   OrderID    2155 non-null   int64  \n",
      " 1   ProductID  2155 non-null   int64  \n",
      " 2   UnitPrice  2155 non-null   object \n",
      " 3   Quantity   2155 non-null   int64  \n",
      " 4   Discount   2155 non-null   float64\n",
      "dtypes: float64(1), int64(3), object(1)\n",
      "memory usage: 84.3+ KB\n"
     ]
    }
   ],
   "source": [
    "df_do.info()"
   ]
  },
  {
   "cell_type": "code",
   "execution_count": 12,
   "id": "alien-harbor",
   "metadata": {},
   "outputs": [],
   "source": [
    "df = pd.merge(df_o, df_do, on='OrderID')"
   ]
  },
  {
   "cell_type": "code",
   "execution_count": 13,
   "id": "english-occasion",
   "metadata": {},
   "outputs": [
    {
     "name": "stdout",
     "output_type": "stream",
     "text": [
      "<class 'pandas.core.frame.DataFrame'>\n",
      "Int64Index: 2155 entries, 0 to 2154\n",
      "Data columns (total 18 columns):\n",
      " #   Column          Non-Null Count  Dtype         \n",
      "---  ------          --------------  -----         \n",
      " 0   OrderID         2155 non-null   int64         \n",
      " 1   CustomerID      2155 non-null   object        \n",
      " 2   EmployeeID      2155 non-null   int64         \n",
      " 3   OrderDate       2155 non-null   datetime64[ns]\n",
      " 4   RequiredDate    2155 non-null   datetime64[ns]\n",
      " 5   ShippedDate     2082 non-null   datetime64[ns]\n",
      " 6   ShipVia         2155 non-null   int64         \n",
      " 7   Freight         2155 non-null   object        \n",
      " 8   ShipName        2155 non-null   object        \n",
      " 9   ShipAddress     2155 non-null   object        \n",
      " 10  ShipCity        2155 non-null   object        \n",
      " 11  ShipRegion      856 non-null    object        \n",
      " 12  ShipPostalCode  2100 non-null   object        \n",
      " 13  ShipCountry     2155 non-null   object        \n",
      " 14  ProductID       2155 non-null   int64         \n",
      " 15  UnitPrice       2155 non-null   object        \n",
      " 16  Quantity        2155 non-null   int64         \n",
      " 17  Discount        2155 non-null   float64       \n",
      "dtypes: datetime64[ns](3), float64(1), int64(5), object(9)\n",
      "memory usage: 319.9+ KB\n"
     ]
    }
   ],
   "source": [
    "df.info()"
   ]
  },
  {
   "cell_type": "markdown",
   "id": "2e1ee271",
   "metadata": {},
   "source": [
    "2. Apakah terdapat anomaly berupa missing values, data duplicate, kesalahan data formatting, dan/atau inconsistency typing? Lakukan visualisasi outlier yang tepat! "
   ]
  },
  {
   "cell_type": "code",
   "execution_count": 14,
   "id": "relative-doubt",
   "metadata": {},
   "outputs": [
    {
     "data": {
      "text/plain": [
       "OrderID              0\n",
       "CustomerID           0\n",
       "EmployeeID           0\n",
       "OrderDate            0\n",
       "RequiredDate         0\n",
       "ShippedDate         73\n",
       "ShipVia              0\n",
       "Freight              0\n",
       "ShipName             0\n",
       "ShipAddress          0\n",
       "ShipCity             0\n",
       "ShipRegion        1299\n",
       "ShipPostalCode      55\n",
       "ShipCountry          0\n",
       "ProductID            0\n",
       "UnitPrice            0\n",
       "Quantity             0\n",
       "Discount             0\n",
       "dtype: int64"
      ]
     },
     "execution_count": 14,
     "metadata": {},
     "output_type": "execute_result"
    }
   ],
   "source": [
    "df.isnull().sum()"
   ]
  },
  {
   "cell_type": "code",
   "execution_count": 15,
   "id": "proof-freedom",
   "metadata": {},
   "outputs": [
    {
     "data": {
      "text/plain": [
       "<AxesSubplot:>"
      ]
     },
     "execution_count": 15,
     "metadata": {},
     "output_type": "execute_result"
    },
    {
     "data": {
      "image/png": "[encoded data removed]",
      "text/plain": [
       "<Figure size 432x288 with 1 Axes>"
      ]
     },
     "metadata": {
      "needs_background": "light"
     },
     "output_type": "display_data"
    }
   ],
   "source": [
    "sns.boxplot(data=df['Quantity'])"
   ]
  },
  {
   "cell_type": "code",
   "execution_count": 16,
   "id": "hydraulic-rogers",
   "metadata": {},
   "outputs": [],
   "source": [
    "df['UnitPrice'] = df['UnitPrice'].astype(str).astype(float)"
   ]
  },
  {
   "cell_type": "code",
   "execution_count": 17,
   "id": "connected-pickup",
   "metadata": {},
   "outputs": [],
   "source": [
    "df['Freight'] = df['Freight'].astype(str).astype(float)"
   ]
  },
  {
   "cell_type": "code",
   "execution_count": 18,
   "id": "trying-tract",
   "metadata": {},
   "outputs": [
    {
     "data": {
      "text/plain": [
       "<AxesSubplot:>"
      ]
     },
     "execution_count": 18,
     "metadata": {},
     "output_type": "execute_result"
    },
    {
     "data": {
      "image/png": "[encoded data removed]",
      "text/plain": [
       "<Figure size 432x288 with 1 Axes>"
      ]
     },
     "metadata": {
      "needs_background": "light"
     },
     "output_type": "display_data"
    }
   ],
   "source": [
    "sns.boxplot(data=df['UnitPrice'])"
   ]
  },
  {
   "cell_type": "code",
   "execution_count": 19,
   "id": "continuous-apparatus",
   "metadata": {},
   "outputs": [
    {
     "data": {
      "text/plain": [
       "<AxesSubplot:>"
      ]
     },
     "execution_count": 19,
     "metadata": {},
     "output_type": "execute_result"
    },
    {
     "data": {
      "image/png": "[encoded data removed]",
      "text/plain": [
       "<Figure size 432x288 with 1 Axes>"
      ]
     },
     "metadata": {
      "needs_background": "light"
     },
     "output_type": "display_data"
    }
   ],
   "source": [
    "sns.boxplot(data=df['Freight'])"
   ]
  },
  {
   "cell_type": "code",
   "execution_count": 20,
   "id": "damaged-shore",
   "metadata": {},
   "outputs": [
    {
     "data": {
      "text/plain": [
       "<AxesSubplot:>"
      ]
     },
     "execution_count": 20,
     "metadata": {},
     "output_type": "execute_result"
    },
    {
     "data": {
      "image/png": "[encoded data removed]",
      "text/plain": [
       "<Figure size 432x288 with 1 Axes>"
      ]
     },
     "metadata": {
      "needs_background": "light"
     },
     "output_type": "display_data"
    }
   ],
   "source": [
    "sns.boxplot(data=df['Discount'])"
   ]
  },
  {
   "cell_type": "markdown",
   "id": "f0f07348",
   "metadata": {},
   "source": [
    "3. Lakukan penanganan pada anomaly tersebut. (Missing value, outliers, dll)"
   ]
  },
  {
   "cell_type": "code",
   "execution_count": 21,
   "id": "ae003743",
   "metadata": {},
   "outputs": [],
   "source": [
    "df.drop('ShipRegion', axis=1, inplace=True)\n",
    "df.drop('CustomerID', axis=1, inplace=True)\n",
    "df.drop('EmployeeID', axis=1, inplace=True)\n",
    "df.drop('Discount', axis=1, inplace=True)"
   ]
  },
  {
   "cell_type": "code",
   "execution_count": 22,
   "id": "foster-knife",
   "metadata": {},
   "outputs": [
    {
     "name": "stdout",
     "output_type": "stream",
     "text": [
      "<class 'pandas.core.frame.DataFrame'>\n",
      "Int64Index: 2155 entries, 0 to 2154\n",
      "Data columns (total 14 columns):\n",
      " #   Column          Non-Null Count  Dtype         \n",
      "---  ------          --------------  -----         \n",
      " 0   OrderID         2155 non-null   int64         \n",
      " 1   OrderDate       2155 non-null   datetime64[ns]\n",
      " 2   RequiredDate    2155 non-null   datetime64[ns]\n",
      " 3   ShippedDate     2082 non-null   datetime64[ns]\n",
      " 4   ShipVia         2155 non-null   int64         \n",
      " 5   Freight         2155 non-null   float64       \n",
      " 6   ShipName        2155 non-null   object        \n",
      " 7   ShipAddress     2155 non-null   object        \n",
      " 8   ShipCity        2155 non-null   object        \n",
      " 9   ShipPostalCode  2100 non-null   object        \n",
      " 10  ShipCountry     2155 non-null   object        \n",
      " 11  ProductID       2155 non-null   int64         \n",
      " 12  UnitPrice       2155 non-null   float64       \n",
      " 13  Quantity        2155 non-null   int64         \n",
      "dtypes: datetime64[ns](3), float64(2), int64(4), object(5)\n",
      "memory usage: 317.1+ KB\n"
     ]
    }
   ],
   "source": [
    "df.info()"
   ]
  },
  {
   "cell_type": "markdown",
   "id": "a978eb51",
   "metadata": {},
   "source": [
    "# DATA VISUALIZATION"
   ]
  },
  {
   "cell_type": "markdown",
   "id": "76ac868f",
   "metadata": {},
   "source": [
    "1. Tampilkan banyaknya order dari negara yang melakukan pengiriman"
   ]
  },
  {
   "cell_type": "code",
   "execution_count": 23,
   "id": "disabled-bosnia",
   "metadata": {},
   "outputs": [
    {
     "data": {
      "image/png": "[encoded data removed]",
      "text/plain": [
       "<Figure size 1080x576 with 1 Axes>"
      ]
     },
     "metadata": {
      "needs_background": "light"
     },
     "output_type": "display_data"
    }
   ],
   "source": [
    "plt.figure(figsize=(15,8))\n",
    "sns.countplot(data=df, x='ShipCountry')\n",
    "plt.xticks(rotation=90)\n",
    "plt.title(\"Total Order Negara yang Melakukan Pengiriman\", size=20)\n",
    "plt.show()"
   ]
  },
  {
   "cell_type": "markdown",
   "id": "7ca35c5f",
   "metadata": {},
   "source": [
    "2. Tampilkan grafik order tahunan dari 4 negara yang berbeda (negara mana yang paling stabil melakukan order di tiap tahun nya ?)"
   ]
  },
  {
   "cell_type": "code",
   "execution_count": 24,
   "id": "bb9940b7",
   "metadata": {},
   "outputs": [
    {
     "data": {
      "text/plain": [
       "0    1996\n",
       "1    1996\n",
       "2    1996\n",
       "3    1996\n",
       "4    1996\n",
       "Name: year, dtype: int64"
      ]
     },
     "execution_count": 24,
     "metadata": {},
     "output_type": "execute_result"
    }
   ],
   "source": [
    "df['year'] = pd.DatetimeIndex(df['OrderDate']).year\n",
    "df['year'].head()"
   ]
  },
  {
   "cell_type": "code",
   "execution_count": 25,
   "id": "19894424",
   "metadata": {},
   "outputs": [
    {
     "data": {
      "text/html": [
       "<div>\n",
       "<style scoped>\n",
       "    .dataframe tbody tr th:only-of-type {\n",
       "        vertical-align: middle;\n",
       "    }\n",
       "\n",
       "    .dataframe tbody tr th {\n",
       "        vertical-align: top;\n",
       "    }\n",
       "\n",
       "    .dataframe thead th {\n",
       "        text-align: right;\n",
       "    }\n",
       "</style>\n",
       "<table border=\"1\" class=\"dataframe\">\n",
       "  <thead>\n",
       "    <tr style=\"text-align: right;\">\n",
       "      <th></th>\n",
       "      <th>year</th>\n",
       "      <th>ShipCountry</th>\n",
       "      <th>OrderID</th>\n",
       "    </tr>\n",
       "  </thead>\n",
       "  <tbody>\n",
       "    <tr>\n",
       "      <th>0</th>\n",
       "      <td>1996</td>\n",
       "      <td>Austria</td>\n",
       "      <td>27</td>\n",
       "    </tr>\n",
       "    <tr>\n",
       "      <th>1</th>\n",
       "      <td>1996</td>\n",
       "      <td>Belgium</td>\n",
       "      <td>6</td>\n",
       "    </tr>\n",
       "    <tr>\n",
       "      <th>2</th>\n",
       "      <td>1996</td>\n",
       "      <td>Brazil</td>\n",
       "      <td>36</td>\n",
       "    </tr>\n",
       "    <tr>\n",
       "      <th>3</th>\n",
       "      <td>1996</td>\n",
       "      <td>Canada</td>\n",
       "      <td>11</td>\n",
       "    </tr>\n",
       "    <tr>\n",
       "      <th>4</th>\n",
       "      <td>1996</td>\n",
       "      <td>Denmark</td>\n",
       "      <td>10</td>\n",
       "    </tr>\n",
       "  </tbody>\n",
       "</table>\n",
       "</div>"
      ],
      "text/plain": [
       "   year ShipCountry  OrderID\n",
       "0  1996     Austria       27\n",
       "1  1996     Belgium        6\n",
       "2  1996      Brazil       36\n",
       "3  1996      Canada       11\n",
       "4  1996     Denmark       10"
      ]
     },
     "execution_count": 25,
     "metadata": {},
     "output_type": "execute_result"
    }
   ],
   "source": [
    "year_country = df.groupby(['year','ShipCountry'])['OrderID'].count().reset_index()\n",
    "year_country.head()"
   ]
  },
  {
   "cell_type": "code",
   "execution_count": 26,
   "id": "golden-amplifier",
   "metadata": {},
   "outputs": [
    {
     "data": {
      "text/html": [
       "<div>\n",
       "<style scoped>\n",
       "    .dataframe tbody tr th:only-of-type {\n",
       "        vertical-align: middle;\n",
       "    }\n",
       "\n",
       "    .dataframe tbody tr th {\n",
       "        vertical-align: top;\n",
       "    }\n",
       "\n",
       "    .dataframe thead th {\n",
       "        text-align: right;\n",
       "    }\n",
       "</style>\n",
       "<table border=\"1\" class=\"dataframe\">\n",
       "  <thead>\n",
       "    <tr style=\"text-align: right;\">\n",
       "      <th></th>\n",
       "      <th>year</th>\n",
       "      <th>ShipCountry</th>\n",
       "      <th>OrderID</th>\n",
       "    </tr>\n",
       "  </thead>\n",
       "  <tbody>\n",
       "    <tr>\n",
       "      <th>7</th>\n",
       "      <td>1996</td>\n",
       "      <td>Germany</td>\n",
       "      <td>70</td>\n",
       "    </tr>\n",
       "    <tr>\n",
       "      <th>18</th>\n",
       "      <td>1996</td>\n",
       "      <td>USA</td>\n",
       "      <td>59</td>\n",
       "    </tr>\n",
       "    <tr>\n",
       "      <th>2</th>\n",
       "      <td>1996</td>\n",
       "      <td>Brazil</td>\n",
       "      <td>36</td>\n",
       "    </tr>\n",
       "    <tr>\n",
       "      <th>6</th>\n",
       "      <td>1996</td>\n",
       "      <td>France</td>\n",
       "      <td>35</td>\n",
       "    </tr>\n",
       "  </tbody>\n",
       "</table>\n",
       "</div>"
      ],
      "text/plain": [
       "    year ShipCountry  OrderID\n",
       "7   1996     Germany       70\n",
       "18  1996         USA       59\n",
       "2   1996      Brazil       36\n",
       "6   1996      France       35"
      ]
     },
     "execution_count": 26,
     "metadata": {},
     "output_type": "execute_result"
    }
   ],
   "source": [
    "year_country[year_country['year'] == 1996].sort_values(by ='OrderID', ascending=False).head(4)"
   ]
  },
  {
   "cell_type": "code",
   "execution_count": 27,
   "id": "hollow-virtue",
   "metadata": {},
   "outputs": [
    {
     "data": {
      "text/html": [
       "<div>\n",
       "<style scoped>\n",
       "    .dataframe tbody tr th:only-of-type {\n",
       "        vertical-align: middle;\n",
       "    }\n",
       "\n",
       "    .dataframe tbody tr th {\n",
       "        vertical-align: top;\n",
       "    }\n",
       "\n",
       "    .dataframe thead th {\n",
       "        text-align: right;\n",
       "    }\n",
       "</style>\n",
       "<table border=\"1\" class=\"dataframe\">\n",
       "  <thead>\n",
       "    <tr style=\"text-align: right;\">\n",
       "      <th></th>\n",
       "      <th>year</th>\n",
       "      <th>ShipCountry</th>\n",
       "      <th>OrderID</th>\n",
       "    </tr>\n",
       "  </thead>\n",
       "  <tbody>\n",
       "    <tr>\n",
       "      <th>39</th>\n",
       "      <td>1997</td>\n",
       "      <td>USA</td>\n",
       "      <td>170</td>\n",
       "    </tr>\n",
       "    <tr>\n",
       "      <th>28</th>\n",
       "      <td>1997</td>\n",
       "      <td>Germany</td>\n",
       "      <td>170</td>\n",
       "    </tr>\n",
       "    <tr>\n",
       "      <th>23</th>\n",
       "      <td>1997</td>\n",
       "      <td>Brazil</td>\n",
       "      <td>106</td>\n",
       "    </tr>\n",
       "    <tr>\n",
       "      <th>27</th>\n",
       "      <td>1997</td>\n",
       "      <td>France</td>\n",
       "      <td>93</td>\n",
       "    </tr>\n",
       "  </tbody>\n",
       "</table>\n",
       "</div>"
      ],
      "text/plain": [
       "    year ShipCountry  OrderID\n",
       "39  1997         USA      170\n",
       "28  1997     Germany      170\n",
       "23  1997      Brazil      106\n",
       "27  1997      France       93"
      ]
     },
     "execution_count": 27,
     "metadata": {},
     "output_type": "execute_result"
    }
   ],
   "source": [
    "year_country[year_country['year'] == 1997].sort_values(by ='OrderID', ascending=False).head(4)"
   ]
  },
  {
   "cell_type": "code",
   "execution_count": 28,
   "id": "confused-relaxation",
   "metadata": {},
   "outputs": [
    {
     "data": {
      "text/html": [
       "<div>\n",
       "<style scoped>\n",
       "    .dataframe tbody tr th:only-of-type {\n",
       "        vertical-align: middle;\n",
       "    }\n",
       "\n",
       "    .dataframe tbody tr th {\n",
       "        vertical-align: top;\n",
       "    }\n",
       "\n",
       "    .dataframe thead th {\n",
       "        text-align: right;\n",
       "    }\n",
       "</style>\n",
       "<table border=\"1\" class=\"dataframe\">\n",
       "  <thead>\n",
       "    <tr style=\"text-align: right;\">\n",
       "      <th></th>\n",
       "      <th>year</th>\n",
       "      <th>ShipCountry</th>\n",
       "      <th>OrderID</th>\n",
       "    </tr>\n",
       "  </thead>\n",
       "  <tbody>\n",
       "    <tr>\n",
       "      <th>60</th>\n",
       "      <td>1998</td>\n",
       "      <td>USA</td>\n",
       "      <td>123</td>\n",
       "    </tr>\n",
       "    <tr>\n",
       "      <th>49</th>\n",
       "      <td>1998</td>\n",
       "      <td>Germany</td>\n",
       "      <td>88</td>\n",
       "    </tr>\n",
       "    <tr>\n",
       "      <th>44</th>\n",
       "      <td>1998</td>\n",
       "      <td>Brazil</td>\n",
       "      <td>61</td>\n",
       "    </tr>\n",
       "    <tr>\n",
       "      <th>48</th>\n",
       "      <td>1998</td>\n",
       "      <td>France</td>\n",
       "      <td>56</td>\n",
       "    </tr>\n",
       "  </tbody>\n",
       "</table>\n",
       "</div>"
      ],
      "text/plain": [
       "    year ShipCountry  OrderID\n",
       "60  1998         USA      123\n",
       "49  1998     Germany       88\n",
       "44  1998      Brazil       61\n",
       "48  1998      France       56"
      ]
     },
     "execution_count": 28,
     "metadata": {},
     "output_type": "execute_result"
    }
   ],
   "source": [
    "year_country[year_country['year'] == 1998].sort_values(by ='OrderID', ascending=False).head(4)"
   ]
  },
  {
   "cell_type": "code",
   "execution_count": 29,
   "id": "initial-festival",
   "metadata": {},
   "outputs": [],
   "source": [
    "top5_order_by_year = year_country[year_country['ShipCountry'].isin(['USA', 'Germany', 'Brazil', 'France'])]"
   ]
  },
  {
   "cell_type": "code",
   "execution_count": 30,
   "id": "wireless-remove",
   "metadata": {},
   "outputs": [
    {
     "data": {
      "image/png": "[encoded data removed]",
      "text/plain": [
       "<Figure size 1080x576 with 1 Axes>"
      ]
     },
     "metadata": {
      "needs_background": "light"
     },
     "output_type": "display_data"
    }
   ],
   "source": [
    "plt.figure(figsize=(15,8))\n",
    "sns.barplot(data=top5_order_by_year, x='year', y='OrderID', hue='ShipCountry')\n",
    "plt.title('4 Negara dengan Order Terbanyak Disetiap Tahunnya', size=20)\n",
    "plt.show()"
   ]
  },
  {
   "cell_type": "markdown",
   "id": "soviet-gross",
   "metadata": {},
   "source": [
    "3. Tampilkan 4 negara dengan total kargo terberat setiap tahunnya"
   ]
  },
  {
   "cell_type": "code",
   "execution_count": 31,
   "id": "taken-floor",
   "metadata": {},
   "outputs": [
    {
     "data": {
      "text/html": [
       "<div>\n",
       "<style scoped>\n",
       "    .dataframe tbody tr th:only-of-type {\n",
       "        vertical-align: middle;\n",
       "    }\n",
       "\n",
       "    .dataframe tbody tr th {\n",
       "        vertical-align: top;\n",
       "    }\n",
       "\n",
       "    .dataframe thead th {\n",
       "        text-align: right;\n",
       "    }\n",
       "</style>\n",
       "<table border=\"1\" class=\"dataframe\">\n",
       "  <thead>\n",
       "    <tr style=\"text-align: right;\">\n",
       "      <th></th>\n",
       "      <th>year</th>\n",
       "      <th>ShipCountry</th>\n",
       "      <th>Freight</th>\n",
       "    </tr>\n",
       "  </thead>\n",
       "  <tbody>\n",
       "    <tr>\n",
       "      <th>0</th>\n",
       "      <td>1996</td>\n",
       "      <td>Austria</td>\n",
       "      <td>3885.98</td>\n",
       "    </tr>\n",
       "    <tr>\n",
       "      <th>1</th>\n",
       "      <td>1996</td>\n",
       "      <td>Belgium</td>\n",
       "      <td>172.71</td>\n",
       "    </tr>\n",
       "    <tr>\n",
       "      <th>2</th>\n",
       "      <td>1996</td>\n",
       "      <td>Brazil</td>\n",
       "      <td>4581.78</td>\n",
       "    </tr>\n",
       "    <tr>\n",
       "      <th>3</th>\n",
       "      <td>1996</td>\n",
       "      <td>Canada</td>\n",
       "      <td>415.57</td>\n",
       "    </tr>\n",
       "    <tr>\n",
       "      <th>4</th>\n",
       "      <td>1996</td>\n",
       "      <td>Denmark</td>\n",
       "      <td>217.20</td>\n",
       "    </tr>\n",
       "    <tr>\n",
       "      <th>...</th>\n",
       "      <td>...</td>\n",
       "      <td>...</td>\n",
       "      <td>...</td>\n",
       "    </tr>\n",
       "    <tr>\n",
       "      <th>57</th>\n",
       "      <td>1998</td>\n",
       "      <td>Sweden</td>\n",
       "      <td>3558.37</td>\n",
       "    </tr>\n",
       "    <tr>\n",
       "      <th>58</th>\n",
       "      <td>1998</td>\n",
       "      <td>Switzerland</td>\n",
       "      <td>581.49</td>\n",
       "    </tr>\n",
       "    <tr>\n",
       "      <th>59</th>\n",
       "      <td>1998</td>\n",
       "      <td>UK</td>\n",
       "      <td>3573.07</td>\n",
       "    </tr>\n",
       "    <tr>\n",
       "      <th>60</th>\n",
       "      <td>1998</td>\n",
       "      <td>USA</td>\n",
       "      <td>19115.35</td>\n",
       "    </tr>\n",
       "    <tr>\n",
       "      <th>61</th>\n",
       "      <td>1998</td>\n",
       "      <td>Venezuela</td>\n",
       "      <td>2664.65</td>\n",
       "    </tr>\n",
       "  </tbody>\n",
       "</table>\n",
       "<p>62 rows × 3 columns</p>\n",
       "</div>"
      ],
      "text/plain": [
       "    year  ShipCountry   Freight\n",
       "0   1996      Austria   3885.98\n",
       "1   1996      Belgium    172.71\n",
       "2   1996       Brazil   4581.78\n",
       "3   1996       Canada    415.57\n",
       "4   1996      Denmark    217.20\n",
       "..   ...          ...       ...\n",
       "57  1998       Sweden   3558.37\n",
       "58  1998  Switzerland    581.49\n",
       "59  1998           UK   3573.07\n",
       "60  1998          USA  19115.35\n",
       "61  1998    Venezuela   2664.65\n",
       "\n",
       "[62 rows x 3 columns]"
      ]
     },
     "execution_count": 31,
     "metadata": {},
     "output_type": "execute_result"
    }
   ],
   "source": [
    "year_freight = df.groupby(['year', 'ShipCountry'])['Freight'].sum().reset_index()\n",
    "year_freight"
   ]
  },
  {
   "cell_type": "code",
   "execution_count": 32,
   "id": "correct-questionnaire",
   "metadata": {},
   "outputs": [
    {
     "data": {
      "text/html": [
       "<div>\n",
       "<style scoped>\n",
       "    .dataframe tbody tr th:only-of-type {\n",
       "        vertical-align: middle;\n",
       "    }\n",
       "\n",
       "    .dataframe tbody tr th {\n",
       "        vertical-align: top;\n",
       "    }\n",
       "\n",
       "    .dataframe thead th {\n",
       "        text-align: right;\n",
       "    }\n",
       "</style>\n",
       "<table border=\"1\" class=\"dataframe\">\n",
       "  <thead>\n",
       "    <tr style=\"text-align: right;\">\n",
       "      <th></th>\n",
       "      <th>year</th>\n",
       "      <th>ShipCountry</th>\n",
       "      <th>Freight</th>\n",
       "    </tr>\n",
       "  </thead>\n",
       "  <tbody>\n",
       "    <tr>\n",
       "      <th>18</th>\n",
       "      <td>1996</td>\n",
       "      <td>USA</td>\n",
       "      <td>6275.51</td>\n",
       "    </tr>\n",
       "    <tr>\n",
       "      <th>7</th>\n",
       "      <td>1996</td>\n",
       "      <td>Germany</td>\n",
       "      <td>5934.41</td>\n",
       "    </tr>\n",
       "    <tr>\n",
       "      <th>2</th>\n",
       "      <td>1996</td>\n",
       "      <td>Brazil</td>\n",
       "      <td>4581.78</td>\n",
       "    </tr>\n",
       "    <tr>\n",
       "      <th>0</th>\n",
       "      <td>1996</td>\n",
       "      <td>Austria</td>\n",
       "      <td>3885.98</td>\n",
       "    </tr>\n",
       "  </tbody>\n",
       "</table>\n",
       "</div>"
      ],
      "text/plain": [
       "    year ShipCountry  Freight\n",
       "18  1996         USA  6275.51\n",
       "7   1996     Germany  5934.41\n",
       "2   1996      Brazil  4581.78\n",
       "0   1996     Austria  3885.98"
      ]
     },
     "execution_count": 32,
     "metadata": {},
     "output_type": "execute_result"
    }
   ],
   "source": [
    "year_freight[year_freight['year'] == 1996].sort_values(by ='Freight', ascending=False).head(4)"
   ]
  },
  {
   "cell_type": "code",
   "execution_count": 33,
   "id": "departmental-retail",
   "metadata": {},
   "outputs": [
    {
     "data": {
      "text/html": [
       "<div>\n",
       "<style scoped>\n",
       "    .dataframe tbody tr th:only-of-type {\n",
       "        vertical-align: middle;\n",
       "    }\n",
       "\n",
       "    .dataframe tbody tr th {\n",
       "        vertical-align: top;\n",
       "    }\n",
       "\n",
       "    .dataframe thead th {\n",
       "        text-align: right;\n",
       "    }\n",
       "</style>\n",
       "<table border=\"1\" class=\"dataframe\">\n",
       "  <thead>\n",
       "    <tr style=\"text-align: right;\">\n",
       "      <th></th>\n",
       "      <th>year</th>\n",
       "      <th>ShipCountry</th>\n",
       "      <th>Freight</th>\n",
       "    </tr>\n",
       "  </thead>\n",
       "  <tbody>\n",
       "    <tr>\n",
       "      <th>28</th>\n",
       "      <td>1997</td>\n",
       "      <td>Germany</td>\n",
       "      <td>22008.59</td>\n",
       "    </tr>\n",
       "    <tr>\n",
       "      <th>39</th>\n",
       "      <td>1997</td>\n",
       "      <td>USA</td>\n",
       "      <td>20774.96</td>\n",
       "    </tr>\n",
       "    <tr>\n",
       "      <th>21</th>\n",
       "      <td>1997</td>\n",
       "      <td>Austria</td>\n",
       "      <td>14401.87</td>\n",
       "    </tr>\n",
       "    <tr>\n",
       "      <th>27</th>\n",
       "      <td>1997</td>\n",
       "      <td>France</td>\n",
       "      <td>7405.97</td>\n",
       "    </tr>\n",
       "  </tbody>\n",
       "</table>\n",
       "</div>"
      ],
      "text/plain": [
       "    year ShipCountry   Freight\n",
       "28  1997     Germany  22008.59\n",
       "39  1997         USA  20774.96\n",
       "21  1997     Austria  14401.87\n",
       "27  1997      France   7405.97"
      ]
     },
     "execution_count": 33,
     "metadata": {},
     "output_type": "execute_result"
    }
   ],
   "source": [
    "year_freight[year_freight['year'] == 1997].sort_values(by ='Freight', ascending=False).head(4)"
   ]
  },
  {
   "cell_type": "code",
   "execution_count": 34,
   "id": "hollywood-setup",
   "metadata": {},
   "outputs": [
    {
     "data": {
      "text/html": [
       "<div>\n",
       "<style scoped>\n",
       "    .dataframe tbody tr th:only-of-type {\n",
       "        vertical-align: middle;\n",
       "    }\n",
       "\n",
       "    .dataframe tbody tr th {\n",
       "        vertical-align: top;\n",
       "    }\n",
       "\n",
       "    .dataframe thead th {\n",
       "        text-align: right;\n",
       "    }\n",
       "</style>\n",
       "<table border=\"1\" class=\"dataframe\">\n",
       "  <thead>\n",
       "    <tr style=\"text-align: right;\">\n",
       "      <th></th>\n",
       "      <th>year</th>\n",
       "      <th>ShipCountry</th>\n",
       "      <th>Freight</th>\n",
       "    </tr>\n",
       "  </thead>\n",
       "  <tbody>\n",
       "    <tr>\n",
       "      <th>60</th>\n",
       "      <td>1998</td>\n",
       "      <td>USA</td>\n",
       "      <td>19115.35</td>\n",
       "    </tr>\n",
       "    <tr>\n",
       "      <th>49</th>\n",
       "      <td>1998</td>\n",
       "      <td>Germany</td>\n",
       "      <td>10227.75</td>\n",
       "    </tr>\n",
       "    <tr>\n",
       "      <th>42</th>\n",
       "      <td>1998</td>\n",
       "      <td>Austria</td>\n",
       "      <td>9443.59</td>\n",
       "    </tr>\n",
       "    <tr>\n",
       "      <th>44</th>\n",
       "      <td>1998</td>\n",
       "      <td>Brazil</td>\n",
       "      <td>3621.26</td>\n",
       "    </tr>\n",
       "  </tbody>\n",
       "</table>\n",
       "</div>"
      ],
      "text/plain": [
       "    year ShipCountry   Freight\n",
       "60  1998         USA  19115.35\n",
       "49  1998     Germany  10227.75\n",
       "42  1998     Austria   9443.59\n",
       "44  1998      Brazil   3621.26"
      ]
     },
     "execution_count": 34,
     "metadata": {},
     "output_type": "execute_result"
    }
   ],
   "source": [
    "year_freight[year_freight['year'] == 1998].sort_values(by ='Freight', ascending=False).head(4)"
   ]
  },
  {
   "cell_type": "code",
   "execution_count": 35,
   "id": "organized-discipline",
   "metadata": {},
   "outputs": [],
   "source": [
    "top5_freight_by_year = year_freight[year_freight['ShipCountry'].isin(['USA', 'Germany', 'Brazil', 'Austria'])]"
   ]
  },
  {
   "cell_type": "code",
   "execution_count": 36,
   "id": "empty-project",
   "metadata": {},
   "outputs": [
    {
     "data": {
      "image/png": "[encoded data removed]",
      "text/plain": [
       "<Figure size 1080x576 with 1 Axes>"
      ]
     },
     "metadata": {
      "needs_background": "light"
     },
     "output_type": "display_data"
    }
   ],
   "source": [
    "plt.figure(figsize=(15,8))\n",
    "sns.lineplot(data=top5_freight_by_year, x='year', y='Freight', hue='ShipCountry')\n",
    "plt.title('4 Negara dengan Kargo Order Terberat Disetiap Tahunnya', size=20)\n",
    "plt.show()"
   ]
  },
  {
   "cell_type": "markdown",
   "id": "smart-reader",
   "metadata": {},
   "source": [
    "4. Tampilkan banyaknya jumlah quantity order dari semua pengiriman tiap negara"
   ]
  },
  {
   "cell_type": "code",
   "execution_count": 37,
   "id": "opened-ordering",
   "metadata": {},
   "outputs": [
    {
     "data": {
      "text/html": [
       "<div>\n",
       "<style scoped>\n",
       "    .dataframe tbody tr th:only-of-type {\n",
       "        vertical-align: middle;\n",
       "    }\n",
       "\n",
       "    .dataframe tbody tr th {\n",
       "        vertical-align: top;\n",
       "    }\n",
       "\n",
       "    .dataframe thead th {\n",
       "        text-align: right;\n",
       "    }\n",
       "</style>\n",
       "<table border=\"1\" class=\"dataframe\">\n",
       "  <thead>\n",
       "    <tr style=\"text-align: right;\">\n",
       "      <th></th>\n",
       "      <th>ShipCountry</th>\n",
       "      <th>Quantity</th>\n",
       "    </tr>\n",
       "  </thead>\n",
       "  <tbody>\n",
       "    <tr>\n",
       "      <th>19</th>\n",
       "      <td>USA</td>\n",
       "      <td>9330</td>\n",
       "    </tr>\n",
       "    <tr>\n",
       "      <th>8</th>\n",
       "      <td>Germany</td>\n",
       "      <td>9213</td>\n",
       "    </tr>\n",
       "    <tr>\n",
       "      <th>1</th>\n",
       "      <td>Austria</td>\n",
       "      <td>5167</td>\n",
       "    </tr>\n",
       "    <tr>\n",
       "      <th>3</th>\n",
       "      <td>Brazil</td>\n",
       "      <td>4247</td>\n",
       "    </tr>\n",
       "    <tr>\n",
       "      <th>7</th>\n",
       "      <td>France</td>\n",
       "      <td>3254</td>\n",
       "    </tr>\n",
       "    <tr>\n",
       "      <th>20</th>\n",
       "      <td>Venezuela</td>\n",
       "      <td>2936</td>\n",
       "    </tr>\n",
       "    <tr>\n",
       "      <th>18</th>\n",
       "      <td>UK</td>\n",
       "      <td>2742</td>\n",
       "    </tr>\n",
       "    <tr>\n",
       "      <th>16</th>\n",
       "      <td>Sweden</td>\n",
       "      <td>2235</td>\n",
       "    </tr>\n",
       "    <tr>\n",
       "      <th>4</th>\n",
       "      <td>Canada</td>\n",
       "      <td>1984</td>\n",
       "    </tr>\n",
       "    <tr>\n",
       "      <th>9</th>\n",
       "      <td>Ireland</td>\n",
       "      <td>1684</td>\n",
       "    </tr>\n",
       "    <tr>\n",
       "      <th>2</th>\n",
       "      <td>Belgium</td>\n",
       "      <td>1392</td>\n",
       "    </tr>\n",
       "    <tr>\n",
       "      <th>17</th>\n",
       "      <td>Switzerland</td>\n",
       "      <td>1275</td>\n",
       "    </tr>\n",
       "    <tr>\n",
       "      <th>5</th>\n",
       "      <td>Denmark</td>\n",
       "      <td>1170</td>\n",
       "    </tr>\n",
       "    <tr>\n",
       "      <th>11</th>\n",
       "      <td>Mexico</td>\n",
       "      <td>1025</td>\n",
       "    </tr>\n",
       "    <tr>\n",
       "      <th>6</th>\n",
       "      <td>Finland</td>\n",
       "      <td>885</td>\n",
       "    </tr>\n",
       "    <tr>\n",
       "      <th>10</th>\n",
       "      <td>Italy</td>\n",
       "      <td>822</td>\n",
       "    </tr>\n",
       "    <tr>\n",
       "      <th>15</th>\n",
       "      <td>Spain</td>\n",
       "      <td>718</td>\n",
       "    </tr>\n",
       "    <tr>\n",
       "      <th>14</th>\n",
       "      <td>Portugal</td>\n",
       "      <td>533</td>\n",
       "    </tr>\n",
       "    <tr>\n",
       "      <th>0</th>\n",
       "      <td>Argentina</td>\n",
       "      <td>339</td>\n",
       "    </tr>\n",
       "    <tr>\n",
       "      <th>13</th>\n",
       "      <td>Poland</td>\n",
       "      <td>205</td>\n",
       "    </tr>\n",
       "    <tr>\n",
       "      <th>12</th>\n",
       "      <td>Norway</td>\n",
       "      <td>161</td>\n",
       "    </tr>\n",
       "  </tbody>\n",
       "</table>\n",
       "</div>"
      ],
      "text/plain": [
       "    ShipCountry  Quantity\n",
       "19          USA      9330\n",
       "8       Germany      9213\n",
       "1       Austria      5167\n",
       "3        Brazil      4247\n",
       "7        France      3254\n",
       "20    Venezuela      2936\n",
       "18           UK      2742\n",
       "16       Sweden      2235\n",
       "4        Canada      1984\n",
       "9       Ireland      1684\n",
       "2       Belgium      1392\n",
       "17  Switzerland      1275\n",
       "5       Denmark      1170\n",
       "11       Mexico      1025\n",
       "6       Finland       885\n",
       "10        Italy       822\n",
       "15        Spain       718\n",
       "14     Portugal       533\n",
       "0     Argentina       339\n",
       "13       Poland       205\n",
       "12       Norway       161"
      ]
     },
     "execution_count": 37,
     "metadata": {},
     "output_type": "execute_result"
    }
   ],
   "source": [
    "country_qty = df.groupby(['ShipCountry'])['Quantity'].sum().reset_index().sort_values(by='Quantity', ascending=False)\n",
    "country_qty"
   ]
  },
  {
   "cell_type": "code",
   "execution_count": 38,
   "id": "fewer-focus",
   "metadata": {},
   "outputs": [
    {
     "data": {
      "image/png": "[encoded data removed]",
      "text/plain": [
       "<Figure size 1080x576 with 1 Axes>"
      ]
     },
     "metadata": {
      "needs_background": "light"
     },
     "output_type": "display_data"
    }
   ],
   "source": [
    "plt.figure(figsize=(15,8))\n",
    "sns.barplot(\n",
    "    data=country_qty,\n",
    "    x='ShipCountry',\n",
    "    y='Quantity')\n",
    "plt.xticks(rotation=90)\n",
    "plt.title(\"Banyaknya Jumlah Quantity Order dari semua pengiriman tiap negara\", size=20)\n",
    "plt.show()"
   ]
  },
  {
   "cell_type": "markdown",
   "id": "visible-secondary",
   "metadata": {},
   "source": [
    "5. Tampilkan persentase penggunaan jasa shipping berdasarkan total order"
   ]
  },
  {
   "cell_type": "code",
   "execution_count": 39,
   "id": "answering-ambassador",
   "metadata": {},
   "outputs": [
    {
     "data": {
      "text/html": [
       "<div>\n",
       "<style scoped>\n",
       "    .dataframe tbody tr th:only-of-type {\n",
       "        vertical-align: middle;\n",
       "    }\n",
       "\n",
       "    .dataframe tbody tr th {\n",
       "        vertical-align: top;\n",
       "    }\n",
       "\n",
       "    .dataframe thead th {\n",
       "        text-align: right;\n",
       "    }\n",
       "</style>\n",
       "<table border=\"1\" class=\"dataframe\">\n",
       "  <thead>\n",
       "    <tr style=\"text-align: right;\">\n",
       "      <th></th>\n",
       "      <th>ShipVia</th>\n",
       "      <th>OrderID</th>\n",
       "    </tr>\n",
       "  </thead>\n",
       "  <tbody>\n",
       "    <tr>\n",
       "      <th>0</th>\n",
       "      <td>1</td>\n",
       "      <td>646</td>\n",
       "    </tr>\n",
       "    <tr>\n",
       "      <th>1</th>\n",
       "      <td>2</td>\n",
       "      <td>864</td>\n",
       "    </tr>\n",
       "    <tr>\n",
       "      <th>2</th>\n",
       "      <td>3</td>\n",
       "      <td>645</td>\n",
       "    </tr>\n",
       "  </tbody>\n",
       "</table>\n",
       "</div>"
      ],
      "text/plain": [
       "   ShipVia  OrderID\n",
       "0        1      646\n",
       "1        2      864\n",
       "2        3      645"
      ]
     },
     "execution_count": 39,
     "metadata": {},
     "output_type": "execute_result"
    }
   ],
   "source": [
    "pieee = df.groupby(['ShipVia'])['OrderID'].count().reset_index()\n",
    "pieee"
   ]
  },
  {
   "cell_type": "code",
   "execution_count": 40,
   "id": "cutting-recommendation",
   "metadata": {},
   "outputs": [
    {
     "data": {
      "text/html": [
       "<div>\n",
       "<style scoped>\n",
       "    .dataframe tbody tr th:only-of-type {\n",
       "        vertical-align: middle;\n",
       "    }\n",
       "\n",
       "    .dataframe tbody tr th {\n",
       "        vertical-align: top;\n",
       "    }\n",
       "\n",
       "    .dataframe thead th {\n",
       "        text-align: right;\n",
       "    }\n",
       "</style>\n",
       "<table border=\"1\" class=\"dataframe\">\n",
       "  <thead>\n",
       "    <tr style=\"text-align: right;\">\n",
       "      <th></th>\n",
       "      <th>ShipperID</th>\n",
       "      <th>CompanyName</th>\n",
       "      <th>Phone</th>\n",
       "    </tr>\n",
       "  </thead>\n",
       "  <tbody>\n",
       "    <tr>\n",
       "      <th>0</th>\n",
       "      <td>1</td>\n",
       "      <td>Speedy Express</td>\n",
       "      <td>(503) 555-9831</td>\n",
       "    </tr>\n",
       "    <tr>\n",
       "      <th>1</th>\n",
       "      <td>2</td>\n",
       "      <td>United Package</td>\n",
       "      <td>(503) 555-3199</td>\n",
       "    </tr>\n",
       "    <tr>\n",
       "      <th>2</th>\n",
       "      <td>3</td>\n",
       "      <td>Federal Shipping</td>\n",
       "      <td>(503) 555-9931</td>\n",
       "    </tr>\n",
       "  </tbody>\n",
       "</table>\n",
       "</div>"
      ],
      "text/plain": [
       "   ShipperID       CompanyName           Phone\n",
       "0          1    Speedy Express  (503) 555-9831\n",
       "1          2    United Package  (503) 555-3199\n",
       "2          3  Federal Shipping  (503) 555-9931"
      ]
     },
     "execution_count": 40,
     "metadata": {},
     "output_type": "execute_result"
    }
   ],
   "source": [
    "companyName= sql_df('SELECT * FROM Shippers')\n",
    "companyName"
   ]
  },
  {
   "cell_type": "code",
   "execution_count": 41,
   "id": "developing-philip",
   "metadata": {},
   "outputs": [
    {
     "data": {
      "text/html": [
       "<div>\n",
       "<style scoped>\n",
       "    .dataframe tbody tr th:only-of-type {\n",
       "        vertical-align: middle;\n",
       "    }\n",
       "\n",
       "    .dataframe tbody tr th {\n",
       "        vertical-align: top;\n",
       "    }\n",
       "\n",
       "    .dataframe thead th {\n",
       "        text-align: right;\n",
       "    }\n",
       "</style>\n",
       "<table border=\"1\" class=\"dataframe\">\n",
       "  <thead>\n",
       "    <tr style=\"text-align: right;\">\n",
       "      <th></th>\n",
       "      <th>ShipVia</th>\n",
       "      <th>OrderID</th>\n",
       "      <th>CompanyName</th>\n",
       "      <th>Phone</th>\n",
       "    </tr>\n",
       "  </thead>\n",
       "  <tbody>\n",
       "    <tr>\n",
       "      <th>0</th>\n",
       "      <td>1</td>\n",
       "      <td>646</td>\n",
       "      <td>Speedy Express</td>\n",
       "      <td>(503) 555-9831</td>\n",
       "    </tr>\n",
       "    <tr>\n",
       "      <th>1</th>\n",
       "      <td>2</td>\n",
       "      <td>864</td>\n",
       "      <td>United Package</td>\n",
       "      <td>(503) 555-3199</td>\n",
       "    </tr>\n",
       "    <tr>\n",
       "      <th>2</th>\n",
       "      <td>3</td>\n",
       "      <td>645</td>\n",
       "      <td>Federal Shipping</td>\n",
       "      <td>(503) 555-9931</td>\n",
       "    </tr>\n",
       "  </tbody>\n",
       "</table>\n",
       "</div>"
      ],
      "text/plain": [
       "   ShipVia  OrderID       CompanyName           Phone\n",
       "0        1      646    Speedy Express  (503) 555-9831\n",
       "1        2      864    United Package  (503) 555-3199\n",
       "2        3      645  Federal Shipping  (503) 555-9931"
      ]
     },
     "execution_count": 41,
     "metadata": {},
     "output_type": "execute_result"
    }
   ],
   "source": [
    "shipName = pd.merge(pieee, companyName, left_on='ShipVia', right_on='ShipperID')\n",
    "shipName.drop('ShipperID', axis=1, inplace=True)\n",
    "shipName"
   ]
  },
  {
   "cell_type": "code",
   "execution_count": 42,
   "id": "innocent-modern",
   "metadata": {},
   "outputs": [
    {
     "data": {
      "image/png": "[encoded data removed]",
      "text/plain": [
       "<Figure size 1080x576 with 1 Axes>"
      ]
     },
     "metadata": {},
     "output_type": "display_data"
    }
   ],
   "source": [
    "shipName.plot.pie(y='OrderID',figsize=(15,8),labels=shipName['CompanyName'],autopct ='%.2f', \n",
    "              explode=(0.1,0.1,0.1))\n",
    "plt.axis('equal')\n",
    "plt.title('Persentase Penggunaan Jasa Shipping Berdasarkan Banyaknya Order', size=20)\n",
    "plt.show()"
   ]
  },
  {
   "cell_type": "markdown",
   "id": "integral-brain",
   "metadata": {},
   "source": [
    "6. Tampilkan korelasi antara Freight, Quantity, dan UnitPrice alam bentuk heatmap "
   ]
  },
  {
   "cell_type": "code",
   "execution_count": 43,
   "id": "running-vermont",
   "metadata": {},
   "outputs": [
    {
     "data": {
      "text/html": [
       "<div>\n",
       "<style scoped>\n",
       "    .dataframe tbody tr th:only-of-type {\n",
       "        vertical-align: middle;\n",
       "    }\n",
       "\n",
       "    .dataframe tbody tr th {\n",
       "        vertical-align: top;\n",
       "    }\n",
       "\n",
       "    .dataframe thead th {\n",
       "        text-align: right;\n",
       "    }\n",
       "</style>\n",
       "<table border=\"1\" class=\"dataframe\">\n",
       "  <thead>\n",
       "    <tr style=\"text-align: right;\">\n",
       "      <th></th>\n",
       "      <th>Freight</th>\n",
       "      <th>Quantity</th>\n",
       "      <th>UnitPrice</th>\n",
       "    </tr>\n",
       "  </thead>\n",
       "  <tbody>\n",
       "    <tr>\n",
       "      <th>Freight</th>\n",
       "      <td>1.00000</td>\n",
       "      <td>0.407870</td>\n",
       "      <td>0.219290</td>\n",
       "    </tr>\n",
       "    <tr>\n",
       "      <th>Quantity</th>\n",
       "      <td>0.40787</td>\n",
       "      <td>1.000000</td>\n",
       "      <td>0.013606</td>\n",
       "    </tr>\n",
       "    <tr>\n",
       "      <th>UnitPrice</th>\n",
       "      <td>0.21929</td>\n",
       "      <td>0.013606</td>\n",
       "      <td>1.000000</td>\n",
       "    </tr>\n",
       "  </tbody>\n",
       "</table>\n",
       "</div>"
      ],
      "text/plain": [
       "           Freight  Quantity  UnitPrice\n",
       "Freight    1.00000  0.407870   0.219290\n",
       "Quantity   0.40787  1.000000   0.013606\n",
       "UnitPrice  0.21929  0.013606   1.000000"
      ]
     },
     "execution_count": 43,
     "metadata": {},
     "output_type": "execute_result"
    }
   ],
   "source": [
    "df[['Freight', 'Quantity', 'UnitPrice']].corr(method='spearman')"
   ]
  },
  {
   "cell_type": "code",
   "execution_count": 44,
   "id": "metropolitan-insulin",
   "metadata": {},
   "outputs": [
    {
     "data": {
      "image/png": "[encoded data removed]",
      "text/plain": [
       "<Figure size 1080x576 with 2 Axes>"
      ]
     },
     "metadata": {
      "needs_background": "light"
     },
     "output_type": "display_data"
    }
   ],
   "source": [
    "plt.figure(figsize=(15,8))\n",
    "sns.heatmap(df[['Freight', 'Quantity', 'UnitPrice']].corr(method='spearman'), annot=True)\n",
    "plt.title(\"Korelasi Antara Freight, Quantity, dan UnitPrice\", size=20)\n",
    "plt.show()"
   ]
  },
  {
   "cell_type": "markdown",
   "id": "permanent-stand",
   "metadata": {},
   "source": [
    "# STATISTICS"
   ]
  },
  {
   "cell_type": "markdown",
   "id": "skilled-accident",
   "metadata": {},
   "source": [
    "1. Lakukan uji statistic hipotesis testing terhadap Total UnitPrice dan 'ShipVia' menggunakan nama perusahaan"
   ]
  },
  {
   "cell_type": "code",
   "execution_count": 45,
   "id": "necessary-proposal",
   "metadata": {},
   "outputs": [
    {
     "data": {
      "text/html": [
       "<div>\n",
       "<style scoped>\n",
       "    .dataframe tbody tr th:only-of-type {\n",
       "        vertical-align: middle;\n",
       "    }\n",
       "\n",
       "    .dataframe tbody tr th {\n",
       "        vertical-align: top;\n",
       "    }\n",
       "\n",
       "    .dataframe thead th {\n",
       "        text-align: right;\n",
       "    }\n",
       "</style>\n",
       "<table border=\"1\" class=\"dataframe\">\n",
       "  <thead>\n",
       "    <tr style=\"text-align: right;\">\n",
       "      <th></th>\n",
       "      <th>OrderID</th>\n",
       "      <th>OrderDate</th>\n",
       "      <th>RequiredDate</th>\n",
       "      <th>ShippedDate</th>\n",
       "      <th>ShipVia</th>\n",
       "      <th>Freight</th>\n",
       "      <th>ShipName</th>\n",
       "      <th>ShipAddress</th>\n",
       "      <th>ShipCity</th>\n",
       "      <th>ShipPostalCode</th>\n",
       "      <th>ShipCountry</th>\n",
       "      <th>ProductID</th>\n",
       "      <th>UnitPrice</th>\n",
       "      <th>Quantity</th>\n",
       "      <th>year</th>\n",
       "      <th>ShipperID</th>\n",
       "      <th>CompanyName</th>\n",
       "      <th>Phone</th>\n",
       "    </tr>\n",
       "  </thead>\n",
       "  <tbody>\n",
       "    <tr>\n",
       "      <th>0</th>\n",
       "      <td>10248</td>\n",
       "      <td>1996-07-04</td>\n",
       "      <td>1996-08-01</td>\n",
       "      <td>1996-07-16</td>\n",
       "      <td>3</td>\n",
       "      <td>32.38</td>\n",
       "      <td>Vins et alcools Chevalier</td>\n",
       "      <td>59 rue de l-Abbaye</td>\n",
       "      <td>Reims</td>\n",
       "      <td>51100</td>\n",
       "      <td>France</td>\n",
       "      <td>11</td>\n",
       "      <td>14.0</td>\n",
       "      <td>12</td>\n",
       "      <td>1996</td>\n",
       "      <td>3</td>\n",
       "      <td>Federal Shipping</td>\n",
       "      <td>(503) 555-9931</td>\n",
       "    </tr>\n",
       "    <tr>\n",
       "      <th>1</th>\n",
       "      <td>10248</td>\n",
       "      <td>1996-07-04</td>\n",
       "      <td>1996-08-01</td>\n",
       "      <td>1996-07-16</td>\n",
       "      <td>3</td>\n",
       "      <td>32.38</td>\n",
       "      <td>Vins et alcools Chevalier</td>\n",
       "      <td>59 rue de l-Abbaye</td>\n",
       "      <td>Reims</td>\n",
       "      <td>51100</td>\n",
       "      <td>France</td>\n",
       "      <td>42</td>\n",
       "      <td>9.8</td>\n",
       "      <td>10</td>\n",
       "      <td>1996</td>\n",
       "      <td>3</td>\n",
       "      <td>Federal Shipping</td>\n",
       "      <td>(503) 555-9931</td>\n",
       "    </tr>\n",
       "    <tr>\n",
       "      <th>2</th>\n",
       "      <td>10248</td>\n",
       "      <td>1996-07-04</td>\n",
       "      <td>1996-08-01</td>\n",
       "      <td>1996-07-16</td>\n",
       "      <td>3</td>\n",
       "      <td>32.38</td>\n",
       "      <td>Vins et alcools Chevalier</td>\n",
       "      <td>59 rue de l-Abbaye</td>\n",
       "      <td>Reims</td>\n",
       "      <td>51100</td>\n",
       "      <td>France</td>\n",
       "      <td>72</td>\n",
       "      <td>34.8</td>\n",
       "      <td>5</td>\n",
       "      <td>1996</td>\n",
       "      <td>3</td>\n",
       "      <td>Federal Shipping</td>\n",
       "      <td>(503) 555-9931</td>\n",
       "    </tr>\n",
       "    <tr>\n",
       "      <th>3</th>\n",
       "      <td>10249</td>\n",
       "      <td>1996-07-05</td>\n",
       "      <td>1996-08-16</td>\n",
       "      <td>1996-07-10</td>\n",
       "      <td>1</td>\n",
       "      <td>11.61</td>\n",
       "      <td>Toms Spezialitten</td>\n",
       "      <td>Luisenstr. 48</td>\n",
       "      <td>Mnster</td>\n",
       "      <td>44087</td>\n",
       "      <td>Germany</td>\n",
       "      <td>14</td>\n",
       "      <td>18.6</td>\n",
       "      <td>9</td>\n",
       "      <td>1996</td>\n",
       "      <td>1</td>\n",
       "      <td>Speedy Express</td>\n",
       "      <td>(503) 555-9831</td>\n",
       "    </tr>\n",
       "    <tr>\n",
       "      <th>4</th>\n",
       "      <td>10249</td>\n",
       "      <td>1996-07-05</td>\n",
       "      <td>1996-08-16</td>\n",
       "      <td>1996-07-10</td>\n",
       "      <td>1</td>\n",
       "      <td>11.61</td>\n",
       "      <td>Toms Spezialitten</td>\n",
       "      <td>Luisenstr. 48</td>\n",
       "      <td>Mnster</td>\n",
       "      <td>44087</td>\n",
       "      <td>Germany</td>\n",
       "      <td>51</td>\n",
       "      <td>42.4</td>\n",
       "      <td>40</td>\n",
       "      <td>1996</td>\n",
       "      <td>1</td>\n",
       "      <td>Speedy Express</td>\n",
       "      <td>(503) 555-9831</td>\n",
       "    </tr>\n",
       "  </tbody>\n",
       "</table>\n",
       "</div>"
      ],
      "text/plain": [
       "   OrderID  OrderDate RequiredDate ShippedDate  ShipVia  Freight  \\\n",
       "0    10248 1996-07-04   1996-08-01  1996-07-16        3    32.38   \n",
       "1    10248 1996-07-04   1996-08-01  1996-07-16        3    32.38   \n",
       "2    10248 1996-07-04   1996-08-01  1996-07-16        3    32.38   \n",
       "3    10249 1996-07-05   1996-08-16  1996-07-10        1    11.61   \n",
       "4    10249 1996-07-05   1996-08-16  1996-07-10        1    11.61   \n",
       "\n",
       "                    ShipName         ShipAddress ShipCity ShipPostalCode  \\\n",
       "0  Vins et alcools Chevalier  59 rue de l-Abbaye    Reims          51100   \n",
       "1  Vins et alcools Chevalier  59 rue de l-Abbaye    Reims          51100   \n",
       "2  Vins et alcools Chevalier  59 rue de l-Abbaye    Reims          51100   \n",
       "3          Toms Spezialitten       Luisenstr. 48   Mnster          44087   \n",
       "4          Toms Spezialitten       Luisenstr. 48   Mnster          44087   \n",
       "\n",
       "  ShipCountry  ProductID  UnitPrice  Quantity  year  ShipperID  \\\n",
       "0      France         11       14.0        12  1996          3   \n",
       "1      France         42        9.8        10  1996          3   \n",
       "2      France         72       34.8         5  1996          3   \n",
       "3     Germany         14       18.6         9  1996          1   \n",
       "4     Germany         51       42.4        40  1996          1   \n",
       "\n",
       "        CompanyName           Phone  \n",
       "0  Federal Shipping  (503) 555-9931  \n",
       "1  Federal Shipping  (503) 555-9931  \n",
       "2  Federal Shipping  (503) 555-9931  \n",
       "3    Speedy Express  (503) 555-9831  \n",
       "4    Speedy Express  (503) 555-9831  "
      ]
     },
     "execution_count": 45,
     "metadata": {},
     "output_type": "execute_result"
    }
   ],
   "source": [
    "from scipy.stats import f_oneway\n",
    "\n",
    "df = pd.merge(df, companyName, left_on='ShipVia', right_on='ShipperID', how='left')\n",
    "df.head()"
   ]
  },
  {
   "cell_type": "code",
   "execution_count": 53,
   "id": "broke-dinner",
   "metadata": {},
   "outputs": [
    {
     "name": "stdout",
     "output_type": "stream",
     "text": [
      "Hipotesis\n",
      "H0 \t: Data Berdistribusi Normal\n",
      "H1 \t: Data Tidak Berdistribusi Normal\n",
      "Gagal Tolak H0\n"
     ]
    }
   ],
   "source": [
    "print ('Hipotesis')\n",
    "print ('H0 \\t: Data Berdistribusi Normal')\n",
    "print ('H1 \\t: Data Tidak Berdistribusi Normal')\n",
    "\n",
    "stat, pval = f_oneway(df[df['CompanyName'] == 'Speedy Express']['UnitPrice'],\n",
    "        df[df['CompanyName'] == 'United Package']['UnitPrice'],\n",
    "        df[df['CompanyName'] == 'Federal Shipping']['UnitPrice'])\n",
    "\n",
    "if pval < 0.05 :\n",
    "    print ('Tolak H0')\n",
    "else :\n",
    "    print ('Gagal Tolak H0')"
   ]
  },
  {
   "cell_type": "markdown",
   "id": "coupled-projection",
   "metadata": {},
   "source": [
    "2. Apakah jumlah Quantity order pada tahun 1997 lebih sedikit dibandingkan dengan tahun 1998? Lakukan uji hipotesis untuk membuktikan hal tersebut"
   ]
  },
  {
   "cell_type": "code",
   "execution_count": 46,
   "id": "parental-stick",
   "metadata": {},
   "outputs": [
    {
     "name": "stderr",
     "output_type": "stream",
     "text": [
      "C:\\Users\\Moses\\anaconda3\\lib\\site-packages\\seaborn\\distributions.py:2557: FutureWarning: `distplot` is a deprecated function and will be removed in a future version. Please adapt your code to use either `displot` (a figure-level function with similar flexibility) or `histplot` (an axes-level function for histograms).\n",
      "  warnings.warn(msg, FutureWarning)\n"
     ]
    },
    {
     "data": {
      "image/png": "[encoded data removed]",
      "text/plain": [
       "<Figure size 1080x576 with 1 Axes>"
      ]
     },
     "metadata": {
      "needs_background": "light"
     },
     "output_type": "display_data"
    }
   ],
   "source": [
    "# Uji Normalitas Dengan Grafik\n",
    "plt.figure(figsize = (15,8))\n",
    "sns.distplot(df['Quantity'])\n",
    "plt.show()"
   ]
  },
  {
   "cell_type": "code",
   "execution_count": 47,
   "id": "front-simpson",
   "metadata": {},
   "outputs": [
    {
     "name": "stdout",
     "output_type": "stream",
     "text": [
      "Hipotesis\n",
      "H0 \t: Data Berdistribusi Normal\n",
      "H1 \t: Data Tidak Berdistribusi Normal\n",
      "Tolak H0\n"
     ]
    }
   ],
   "source": [
    "# Uji Normalitas dengan Shapiro Wilk\n",
    "from scipy.stats import shapiro\n",
    "print ('Hipotesis')\n",
    "print ('H0 \\t: Data Berdistribusi Normal')\n",
    "print ('H1 \\t: Data Tidak Berdistribusi Normal')\n",
    "\n",
    "stat, pvalshapiro = shapiro(df['Quantity'])\n",
    "\n",
    "if pvalshapiro < 0.05 :\n",
    "    print ('Tolak H0')\n",
    "else :\n",
    "    print ('Gagal Tolak H0')"
   ]
  },
  {
   "cell_type": "code",
   "execution_count": 57,
   "id": "simplified-macintosh",
   "metadata": {},
   "outputs": [
    {
     "name": "stdout",
     "output_type": "stream",
     "text": [
      "Hipotesis\n",
      "H0 \t: Jumlah Quantity Order Ditahun 1997 Lebih Besar atau Sama Dengan Di 1998\n",
      "H1 \t: Jumlah Quantity Order Ditahun 1997 Lebih Sedikit Dibanding Tahun 1998\n",
      "Gagal Tolak H0\n"
     ]
    }
   ],
   "source": [
    "# Uji Perbandingan Nilai\n",
    "from scipy.stats import mannwhitneyu\n",
    "\n",
    "print ('Hipotesis')\n",
    "print ('H0 \\t: Jumlah Quantity Order Ditahun 1997 Lebih Besar atau Sama Dengan Di 1998')\n",
    "print ('H1 \\t: Jumlah Quantity Order Ditahun 1997 Lebih Sedikit Dibanding Tahun 1998')\n",
    "\n",
    "stat, pvalMannWhit = mannwhitneyu(\n",
    "    df[df['year'] == 1997]['Quantity'],\n",
    "    df[df['year'] == 1998]['Quantity'],\n",
    "    alternative = 'less'\n",
    ")\n",
    "\n",
    "if pvalMannWhit < 0.05 :\n",
    "    print ('Tolak H0')\n",
    "else :\n",
    "    print ('Gagal Tolak H0')"
   ]
  },
  {
   "cell_type": "markdown",
   "id": "hybrid-emphasis",
   "metadata": {},
   "source": [
    "3. Apakah terdapat perbedaan total Freight dari tahun ketahun? Lakukan uji hipotesis untuk membuktikan hal tersebut"
   ]
  },
  {
   "cell_type": "code",
   "execution_count": 49,
   "id": "perfect-cigarette",
   "metadata": {},
   "outputs": [
    {
     "name": "stdout",
     "output_type": "stream",
     "text": [
      "Hipotesis\n",
      "H0 \t: Data Berdistribusi Normal\n",
      "H1 \t: Data Tidak Berdistribusi Normal\n",
      "Nilai P-Value = 0.0, Tolak H0\n"
     ]
    }
   ],
   "source": [
    "# Uji Normalitas dengan Shapiro Wilk\n",
    "from scipy.stats import shapiro\n",
    "print ('Hipotesis')\n",
    "print ('H0 \\t: Data Berdistribusi Normal')\n",
    "print ('H1 \\t: Data Tidak Berdistribusi Normal')\n",
    "\n",
    "stat, pvalshapiro1 = shapiro(df['Freight'])\n",
    "\n",
    "if pvalshapiro1 < 0.05 :\n",
    "    print (f'Nilai P-Value = {pvalshapiro1}, Tolak H0')\n",
    "else :\n",
    "    print (f'Nilai P-Value = {pvalshapiro1}, Gagal Tolak H0')"
   ]
  },
  {
   "cell_type": "code",
   "execution_count": 50,
   "id": "recent-cradle",
   "metadata": {},
   "outputs": [
    {
     "name": "stdout",
     "output_type": "stream",
     "text": [
      "Hipotesis\n",
      "H0 \t: Tidak Terdapat Perbedaan Total Freight Setiap Tahunnya\n",
      "H1 \t: Terdapat Perbedaan Upah Total Freight Setiap Tahunnya\n",
      "Gagal Tolak H0\n"
     ]
    }
   ],
   "source": [
    "# Uji Perbandingan Nilai\n",
    "from scipy.stats import kruskal\n",
    "\n",
    "print ('Hipotesis')\n",
    "print ('H0 \\t: Tidak Terdapat Perbedaan Total Freight Setiap Tahunnya')\n",
    "print ('H1 \\t: Terdapat Perbedaan Upah Total Freight Setiap Tahunnya')\n",
    "\n",
    "stat, pvalkruskal = kruskal(\n",
    "    df[df['year'] == 1996]['Freight'],\n",
    "    df[df['year'] == 1997]['Freight'],\n",
    "    df[df['year'] == 1998]['Freight']\n",
    ")\n",
    "\n",
    "if pvalkruskal < 0.05 :\n",
    "    print ('Tolak H0')\n",
    "else :\n",
    "    print ('Gagal Tolak H0')"
   ]
  },
  {
   "cell_type": "code",
   "execution_count": null,
   "id": "affected-valley",
   "metadata": {},
   "outputs": [],
   "source": []
  }
 ],
 "metadata": {
  "kernelspec": {
   "display_name": "Python 3",
   "language": "python",
   "name": "python3"
  },
  "language_info": {
   "codemirror_mode": {
    "name": "ipython",
    "version": 3
   },
   "file_extension": ".py",
   "mimetype": "text/x-python",
   "name": "python",
   "nbconvert_exporter": "python",
   "pygments_lexer": "ipython3",
   "version": "3.8.5"
  }
 },
 "nbformat": 4,
 "nbformat_minor": 5
}
